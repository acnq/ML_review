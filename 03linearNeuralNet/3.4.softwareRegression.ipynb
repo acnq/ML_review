{
 "cells": [
  {
   "cell_type": "markdown",
   "metadata": {},
   "source": [
    "## 3.4. Software Regression\n",
    "### 3.4.1 Classification Problem\n",
    "### 3.4.2. Network Architecture\n",
    "### 3.4.3 Parameters Overhead of Fully connected layer  \n",
    "### 3.4.4. Softmax Arithmath\n",
    "$$\n",
    "\\hat{\\textbf{y}} = \\text{softmax}(\\textbf{o}) \\\\ \n",
    "\\hat{y}_j = \\frac{\\exp(o_j)}{\\sum_k\\exp(o_k)} \\\\ \n",
    "\\argmax_j\\hat{y}_j = \\argmax_j o_j \n",
    "$$\n",
    "### 3.4.5. Small Batch Sample Vectorization\n",
    "$$\n",
    "\\textbf{O} = \\textbf{XW} + \\textbf{b}, \\\\ \n",
    "\\hat{\\textbf{Y}} = \\textbf{softmax}(\\textbf{O})\n",
    "$$\n",
    "### 3.4.6 loss function\n",
    "#### 3.4.6.1 logrithms likleyhood\n",
    "$$\n",
    "P(\\textbf{Y} | \\textbf{X}) = \\prod_{i=1}^n P(\\textbf{y}^{(i)} | \\textbf{x}^{(i)}) \\\\ \n",
    "- \\log P(\\textbf{Y} | \\textbf{X}) = \\sum_{i=1}^n -\\log P(\\textbf{y}^{(i)} | \\textbf{x}^{(i)}) = \\sum_{i=1}^n l(\\textbf{y}^{(i)}, \\hat{\\textbf{y}}^{(i)}) \\\\ \n",
    "l(\\textbf{y}, \\hat{\\textbf{y}}) = - \\sum_{j=1}^q y_j \\log \\hat{y}_j\n",
    "$$\n",
    "#### 3.4.6.2 softmax and its derivative\n",
    "$$\n",
    "l(\\textbf{y}, \\hat{\\textbf{y}}) = -\\sum_{j=1}^q y_j \\log\\frac{\\exp(o_j)}{\\sum_{k=1}^q\\exp(o_k)} = \\sum_{j=1}^qy_j\\log\\sum_{k=1}^q \\exp(o_k) - \\sum_{j=1}^q y_j o_j = \\log \\sum_{k=1}^q\\exp(o_k) - \\sum_{j=1}^qy_jo_j \\\\ \n",
    "\\partial_{o_j}l(\\textbf{y}, \\hat{\\textbf{y}}) = \\frac{\\exp(o_j)}{\\sum_{k=1}^q \\exp(o_k)} - y_j = \\textbf{softmax}(\\textbf{o})_j - y_j\n",
    "$$\n",
    "#### 3.4.6.3 cross-entropy loss\n",
    "### 3.4.7 Information Theory Principle\n",
    "#### 3.4.7.1 Entropy\n",
    "$$\n",
    "H[P] = \\sum_{j} - P(j)\\log P(j)\n",
    "$$\n",
    "#### 3.4.7.2 Quantatiy of Information\n",
    "#### 3.4.7.3 Review of Cross-Entropy Loss\n",
    "### 3.4.8 Model Prediction and Estimation\n"
   ]
  },
  {
   "cell_type": "markdown",
   "metadata": {},
   "source": []
  }
 ],
 "metadata": {
  "kernelspec": {
   "display_name": "d2l",
   "language": "python",
   "name": "python3"
  },
  "language_info": {
   "name": "python",
   "version": "3.9.19"
  }
 },
 "nbformat": 4,
 "nbformat_minor": 2
}
